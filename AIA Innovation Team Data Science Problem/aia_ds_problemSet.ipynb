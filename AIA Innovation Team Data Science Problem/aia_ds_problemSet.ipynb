{
 "cells": [
  {
   "cell_type": "markdown",
   "metadata": {},
   "source": [
    "# Import libraries and functions "
   ]
  },
  {
   "cell_type": "code",
   "execution_count": 1,
   "metadata": {},
   "outputs": [
    {
     "name": "stdout",
     "output_type": "stream",
     "text": [
      "Library and functions laoded\n"
     ]
    }
   ],
   "source": [
    "import numpy as np\n",
    "import scipy, matplotlib\n",
    "import pandas as pd\n",
    "import sklearn\n",
    "from sklearn import datasets\n",
    "from sklearn.model_selection import train_test_split\n",
    "from sklearn.neighbors import KNeighborsClassifier\n",
    "from sklearn.svm import LinearSVC\n",
    "from sklearn import preprocessing\n",
    "from sklearn.preprocessing import Imputer\n",
    "from sklearn.preprocessing import LabelEncoder, OneHotEncoder\n",
    "from sklearn.preprocessing import StandardScaler \n",
    "from sklearn.linear_model import LogisticRegression\n",
    "from sklearn.metrics import accuracy_score\n",
    "from sklearn.tree import DecisionTreeClassifier # Import Decision Tree Classifier\n",
    "from sklearn.neural_network import MLPClassifier\n",
    "from sklearn.metrics import roc_curve\n",
    "from sklearn.metrics import roc_auc_score\n",
    "import matplotlib.pyplot as plt\n",
    "\n",
    "names = [\"age\",\"workclass\",\"fnlwgt\",\"education\",\n",
    "          \"education-num\",\"marital-status\",\"occupation\",\n",
    "          \"relationship\",\"race\",\"sex\",\"capital-gain\",\"capital-loss\",\n",
    "          \"hous-per-week\",\"native-country\",\"income\"]\n",
    "\n",
    "top_7_features =[]\n",
    "\n",
    "\n",
    "# Do the data preprocessing before training the models\n",
    "def preprocessingData(data):\n",
    "\n",
    "    # remove the data with null values\n",
    "    # data = data.replace(\"?\",np.nan)\n",
    "    data.dropna(inplace = True)\n",
    "\n",
    "    \n",
    "# encoding out dataset which can be categoried\n",
    "    cat_mask = data.dtypes==object\n",
    "    cat_cols = data.columns[cat_mask].tolist()\n",
    "    non_cat_mask = data.dtypes!=object\n",
    "    non_cat_cols = data.columns[non_cat_mask].tolist()\n",
    "    le = LabelEncoder()\n",
    "    data[cat_cols] = data[cat_cols].apply(lambda col: le.fit_transform(col))\n",
    "    data_encoded = data[cat_cols]\n",
    "\n",
    "    \n",
    "# Standarization of data\n",
    "    sc = StandardScaler()\n",
    "    data[non_cat_cols] = sc.fit_transform(data[non_cat_cols])\n",
    "    # print(data_train[non_cat_cols])\n",
    "    data_std=data[non_cat_cols] \n",
    "\n",
    "    \n",
    "# split the data values and target values \n",
    "    x = data.iloc[: , :-1].values\n",
    "    y= data.iloc[: , 14:].values.ravel()\n",
    "    return x,y, cat_mask,data_encoded, data_std\n",
    "\n",
    "\n",
    "# get the info about the model prediction \n",
    "def predictInfo(classifier, name):\n",
    "    \n",
    "    print(\"-----\" + name + \"------\")\n",
    "    \n",
    "    y_train_pred = classifier.predict(df_x)\n",
    "    print('Mismatched training data:', (df_y != y_train_pred).sum())\n",
    "\n",
    "    y_test_pred = classifier.predict(df_x_v)\n",
    "    print('Mismatched test data:', (df_y_v != y_test_pred).sum())\n",
    "    \n",
    "    # Normalized score accuracy \n",
    "    print('Accuracy score: %.5f' % accuracy_score(df_y_v, y_test_pred))\n",
    "    plotROC(classifier)\n",
    "    if name == \"Random Forest\":\n",
    "        featureImportance(classifier)\n",
    "\n",
    "# To plot the ROC graph\n",
    "def plotROC (classifier):\n",
    "    probs = classifier.predict_proba(df_x_v)\n",
    "    probs = probs[:, 1]\n",
    "    auc = roc_auc_score(df_y_v, probs)\n",
    "    print('AUC: %.2f' % auc)\n",
    "    fpr, tpr, thresholds = roc_curve(df_y_v, probs)\n",
    "    plt.plot(fpr, tpr, color='orange', label='ROC')\n",
    "    plt.plot([0, 1], [0, 1], color='darkblue', linestyle='--')\n",
    "    plt.xlabel('False Positive Rate')\n",
    "    plt.ylabel('True Positive Rate')\n",
    "    plt.title('ROC Curve')\n",
    "    plt.legend()\n",
    "    plt.show()\n",
    "\n",
    "# To plot the feature importance\n",
    "def featureImportance(classifier):\n",
    "    importances = classifier.feature_importances_\n",
    "    std = np.std([tree.feature_importances_ for tree in classifier.estimators_],\n",
    "                 axis=0)\n",
    "    indices = np.argsort(importances)[::-1]\n",
    "    xName =[]\n",
    "    for i in indices.tolist():\n",
    "        xName.append(names[i])\n",
    "        if len(top_7_features) < 7 :\n",
    "            top_7_features.append(i)\n",
    "    # Plot the feature importances \n",
    "    plt.figure()\n",
    "    plt.title(\"Feature importances\")\n",
    "    plt.bar(range(df_x.shape[1]), importances[indices],\n",
    "           color=\"b\", yerr=std[indices], align=\"center\")\n",
    "    plt.xticks(range(df_x.shape[1]), xName,rotation=90)\n",
    "    plt.xlim([-1, df_x.shape[1]])\n",
    "    plt.show()\n",
    "\n",
    "print (\"Library and functions laoded\")"
   ]
  },
  {
   "cell_type": "markdown",
   "metadata": {},
   "source": [
    "# Import the data"
   ]
  },
  {
   "cell_type": "code",
   "execution_count": 2,
   "metadata": {},
   "outputs": [
    {
     "name": "stdout",
     "output_type": "stream",
     "text": [
      "Data imported\n"
     ]
    }
   ],
   "source": [
    "## IMport\n",
    "# import the data\n",
    "data_train = pd.read_csv(\"dataset/adult.data\",header=None, names =names,sep=\",\\s\",na_values=[\"?\"],engine='python') \n",
    "data_test = pd.read_csv(\"dataset/adult.test\",header=None, names =names,sep=\",\\s\",na_values=[\"?\"],engine='python') \n",
    "\n",
    "print(\"Data imported\")"
   ]
  },
  {
   "cell_type": "markdown",
   "metadata": {},
   "source": [
    "# Format of raw data"
   ]
  },
  {
   "cell_type": "code",
   "execution_count": 3,
   "metadata": {},
   "outputs": [
    {
     "data": {
      "text/html": [
       "<div>\n",
       "<style scoped>\n",
       "    .dataframe tbody tr th:only-of-type {\n",
       "        vertical-align: middle;\n",
       "    }\n",
       "\n",
       "    .dataframe tbody tr th {\n",
       "        vertical-align: top;\n",
       "    }\n",
       "\n",
       "    .dataframe thead th {\n",
       "        text-align: right;\n",
       "    }\n",
       "</style>\n",
       "<table border=\"1\" class=\"dataframe\">\n",
       "  <thead>\n",
       "    <tr style=\"text-align: right;\">\n",
       "      <th></th>\n",
       "      <th>age</th>\n",
       "      <th>workclass</th>\n",
       "      <th>fnlwgt</th>\n",
       "      <th>education</th>\n",
       "      <th>education-num</th>\n",
       "      <th>marital-status</th>\n",
       "      <th>occupation</th>\n",
       "      <th>relationship</th>\n",
       "      <th>race</th>\n",
       "      <th>sex</th>\n",
       "      <th>capital-gain</th>\n",
       "      <th>capital-loss</th>\n",
       "      <th>hous-per-week</th>\n",
       "      <th>native-country</th>\n",
       "      <th>income</th>\n",
       "    </tr>\n",
       "  </thead>\n",
       "  <tbody>\n",
       "    <tr>\n",
       "      <th>0</th>\n",
       "      <td>39</td>\n",
       "      <td>State-gov</td>\n",
       "      <td>77516</td>\n",
       "      <td>Bachelors</td>\n",
       "      <td>13</td>\n",
       "      <td>Never-married</td>\n",
       "      <td>Adm-clerical</td>\n",
       "      <td>Not-in-family</td>\n",
       "      <td>White</td>\n",
       "      <td>Male</td>\n",
       "      <td>2174</td>\n",
       "      <td>0</td>\n",
       "      <td>40</td>\n",
       "      <td>United-States</td>\n",
       "      <td>&lt;=50K</td>\n",
       "    </tr>\n",
       "    <tr>\n",
       "      <th>1</th>\n",
       "      <td>50</td>\n",
       "      <td>Self-emp-not-inc</td>\n",
       "      <td>83311</td>\n",
       "      <td>Bachelors</td>\n",
       "      <td>13</td>\n",
       "      <td>Married-civ-spouse</td>\n",
       "      <td>Exec-managerial</td>\n",
       "      <td>Husband</td>\n",
       "      <td>White</td>\n",
       "      <td>Male</td>\n",
       "      <td>0</td>\n",
       "      <td>0</td>\n",
       "      <td>13</td>\n",
       "      <td>United-States</td>\n",
       "      <td>&lt;=50K</td>\n",
       "    </tr>\n",
       "    <tr>\n",
       "      <th>2</th>\n",
       "      <td>38</td>\n",
       "      <td>Private</td>\n",
       "      <td>215646</td>\n",
       "      <td>HS-grad</td>\n",
       "      <td>9</td>\n",
       "      <td>Divorced</td>\n",
       "      <td>Handlers-cleaners</td>\n",
       "      <td>Not-in-family</td>\n",
       "      <td>White</td>\n",
       "      <td>Male</td>\n",
       "      <td>0</td>\n",
       "      <td>0</td>\n",
       "      <td>40</td>\n",
       "      <td>United-States</td>\n",
       "      <td>&lt;=50K</td>\n",
       "    </tr>\n",
       "    <tr>\n",
       "      <th>3</th>\n",
       "      <td>53</td>\n",
       "      <td>Private</td>\n",
       "      <td>234721</td>\n",
       "      <td>11th</td>\n",
       "      <td>7</td>\n",
       "      <td>Married-civ-spouse</td>\n",
       "      <td>Handlers-cleaners</td>\n",
       "      <td>Husband</td>\n",
       "      <td>Black</td>\n",
       "      <td>Male</td>\n",
       "      <td>0</td>\n",
       "      <td>0</td>\n",
       "      <td>40</td>\n",
       "      <td>United-States</td>\n",
       "      <td>&lt;=50K</td>\n",
       "    </tr>\n",
       "    <tr>\n",
       "      <th>4</th>\n",
       "      <td>28</td>\n",
       "      <td>Private</td>\n",
       "      <td>338409</td>\n",
       "      <td>Bachelors</td>\n",
       "      <td>13</td>\n",
       "      <td>Married-civ-spouse</td>\n",
       "      <td>Prof-specialty</td>\n",
       "      <td>Wife</td>\n",
       "      <td>Black</td>\n",
       "      <td>Female</td>\n",
       "      <td>0</td>\n",
       "      <td>0</td>\n",
       "      <td>40</td>\n",
       "      <td>Cuba</td>\n",
       "      <td>&lt;=50K</td>\n",
       "    </tr>\n",
       "  </tbody>\n",
       "</table>\n",
       "</div>"
      ],
      "text/plain": [
       "   age         workclass  fnlwgt  education  education-num  \\\n",
       "0   39         State-gov   77516  Bachelors             13   \n",
       "1   50  Self-emp-not-inc   83311  Bachelors             13   \n",
       "2   38           Private  215646    HS-grad              9   \n",
       "3   53           Private  234721       11th              7   \n",
       "4   28           Private  338409  Bachelors             13   \n",
       "\n",
       "       marital-status         occupation   relationship   race     sex  \\\n",
       "0       Never-married       Adm-clerical  Not-in-family  White    Male   \n",
       "1  Married-civ-spouse    Exec-managerial        Husband  White    Male   \n",
       "2            Divorced  Handlers-cleaners  Not-in-family  White    Male   \n",
       "3  Married-civ-spouse  Handlers-cleaners        Husband  Black    Male   \n",
       "4  Married-civ-spouse     Prof-specialty           Wife  Black  Female   \n",
       "\n",
       "   capital-gain  capital-loss  hous-per-week native-country income  \n",
       "0          2174             0             40  United-States  <=50K  \n",
       "1             0             0             13  United-States  <=50K  \n",
       "2             0             0             40  United-States  <=50K  \n",
       "3             0             0             40  United-States  <=50K  \n",
       "4             0             0             40           Cuba  <=50K  "
      ]
     },
     "execution_count": 3,
     "metadata": {},
     "output_type": "execute_result"
    }
   ],
   "source": [
    "# display the original format of the data\n",
    "data_train.head(5)"
   ]
  },
  {
   "cell_type": "markdown",
   "metadata": {},
   "source": [
    "# Preprocessing"
   ]
  },
  {
   "cell_type": "code",
   "execution_count": 4,
   "metadata": {},
   "outputs": [
    {
     "name": "stdout",
     "output_type": "stream",
     "text": [
      "Data preprocessed\n"
     ]
    }
   ],
   "source": [
    "# preprocess the data and get back the formatted training and testing data set\n",
    "df_x, df_y,cat_mask_train,data_encoded_train, data_std_train = preprocessingData(data_train)\n",
    "df_x_v, df_y_v,cat_mask_test,data_encoded_test, data_std_test = preprocessingData(data_test)\n",
    "print(\"Data preprocessed\")"
   ]
  },
  {
   "cell_type": "markdown",
   "metadata": {},
   "source": [
    "## 1. Data filtering"
   ]
  },
  {
   "cell_type": "code",
   "execution_count": 5,
   "metadata": {},
   "outputs": [
    {
     "name": "stdout",
     "output_type": "stream",
     "text": [
      "Training Data:\n",
      "Original data: (30162, 15)\n",
      "Dropping NaN:  (30162, 14)\n",
      "\n",
      "\n",
      "Testing Data:\n",
      "Original data: (15060, 15)\n",
      "Dropping NaN:  (15060, 14)\n"
     ]
    }
   ],
   "source": [
    "print(\"Training Data:\")\n",
    "print(\"Original data: \" + str(data_train.shape) )\n",
    "print(\"Dropping NaN:  \" + str(df_x.shape) )\n",
    "print(\"\\n\")\n",
    "print(\"Testing Data:\")\n",
    "print(\"Original data: \" + str(data_test.shape) )\n",
    "print(\"Dropping NaN:  \" + str(df_x_v.shape) )"
   ]
  },
  {
   "cell_type": "markdown",
   "metadata": {},
   "source": [
    "## 2.  Encoding"
   ]
  },
  {
   "cell_type": "code",
   "execution_count": 6,
   "metadata": {},
   "outputs": [
    {
     "name": "stdout",
     "output_type": "stream",
     "text": [
      "age               False\n",
      "workclass          True\n",
      "fnlwgt            False\n",
      "education          True\n",
      "education-num     False\n",
      "marital-status     True\n",
      "occupation         True\n",
      "relationship       True\n",
      "race               True\n",
      "sex                True\n",
      "capital-gain      False\n",
      "capital-loss      False\n",
      "hous-per-week     False\n",
      "native-country     True\n",
      "income             True\n",
      "dtype: bool\n"
     ]
    }
   ],
   "source": [
    "print(cat_mask_train)"
   ]
  },
  {
   "cell_type": "code",
   "execution_count": 7,
   "metadata": {},
   "outputs": [
    {
     "data": {
      "text/html": [
       "<div>\n",
       "<style scoped>\n",
       "    .dataframe tbody tr th:only-of-type {\n",
       "        vertical-align: middle;\n",
       "    }\n",
       "\n",
       "    .dataframe tbody tr th {\n",
       "        vertical-align: top;\n",
       "    }\n",
       "\n",
       "    .dataframe thead th {\n",
       "        text-align: right;\n",
       "    }\n",
       "</style>\n",
       "<table border=\"1\" class=\"dataframe\">\n",
       "  <thead>\n",
       "    <tr style=\"text-align: right;\">\n",
       "      <th></th>\n",
       "      <th>workclass</th>\n",
       "      <th>education</th>\n",
       "      <th>marital-status</th>\n",
       "      <th>occupation</th>\n",
       "      <th>relationship</th>\n",
       "      <th>race</th>\n",
       "      <th>sex</th>\n",
       "      <th>native-country</th>\n",
       "      <th>income</th>\n",
       "    </tr>\n",
       "  </thead>\n",
       "  <tbody>\n",
       "    <tr>\n",
       "      <th>0</th>\n",
       "      <td>5</td>\n",
       "      <td>9</td>\n",
       "      <td>4</td>\n",
       "      <td>0</td>\n",
       "      <td>1</td>\n",
       "      <td>4</td>\n",
       "      <td>1</td>\n",
       "      <td>38</td>\n",
       "      <td>0</td>\n",
       "    </tr>\n",
       "    <tr>\n",
       "      <th>1</th>\n",
       "      <td>4</td>\n",
       "      <td>9</td>\n",
       "      <td>2</td>\n",
       "      <td>3</td>\n",
       "      <td>0</td>\n",
       "      <td>4</td>\n",
       "      <td>1</td>\n",
       "      <td>38</td>\n",
       "      <td>0</td>\n",
       "    </tr>\n",
       "    <tr>\n",
       "      <th>2</th>\n",
       "      <td>2</td>\n",
       "      <td>11</td>\n",
       "      <td>0</td>\n",
       "      <td>5</td>\n",
       "      <td>1</td>\n",
       "      <td>4</td>\n",
       "      <td>1</td>\n",
       "      <td>38</td>\n",
       "      <td>0</td>\n",
       "    </tr>\n",
       "    <tr>\n",
       "      <th>3</th>\n",
       "      <td>2</td>\n",
       "      <td>1</td>\n",
       "      <td>2</td>\n",
       "      <td>5</td>\n",
       "      <td>0</td>\n",
       "      <td>2</td>\n",
       "      <td>1</td>\n",
       "      <td>38</td>\n",
       "      <td>0</td>\n",
       "    </tr>\n",
       "    <tr>\n",
       "      <th>4</th>\n",
       "      <td>2</td>\n",
       "      <td>9</td>\n",
       "      <td>2</td>\n",
       "      <td>9</td>\n",
       "      <td>5</td>\n",
       "      <td>2</td>\n",
       "      <td>0</td>\n",
       "      <td>4</td>\n",
       "      <td>0</td>\n",
       "    </tr>\n",
       "    <tr>\n",
       "      <th>5</th>\n",
       "      <td>2</td>\n",
       "      <td>12</td>\n",
       "      <td>2</td>\n",
       "      <td>3</td>\n",
       "      <td>5</td>\n",
       "      <td>4</td>\n",
       "      <td>0</td>\n",
       "      <td>38</td>\n",
       "      <td>0</td>\n",
       "    </tr>\n",
       "    <tr>\n",
       "      <th>6</th>\n",
       "      <td>2</td>\n",
       "      <td>6</td>\n",
       "      <td>3</td>\n",
       "      <td>7</td>\n",
       "      <td>1</td>\n",
       "      <td>2</td>\n",
       "      <td>0</td>\n",
       "      <td>22</td>\n",
       "      <td>0</td>\n",
       "    </tr>\n",
       "    <tr>\n",
       "      <th>7</th>\n",
       "      <td>4</td>\n",
       "      <td>11</td>\n",
       "      <td>2</td>\n",
       "      <td>3</td>\n",
       "      <td>0</td>\n",
       "      <td>4</td>\n",
       "      <td>1</td>\n",
       "      <td>38</td>\n",
       "      <td>1</td>\n",
       "    </tr>\n",
       "    <tr>\n",
       "      <th>8</th>\n",
       "      <td>2</td>\n",
       "      <td>12</td>\n",
       "      <td>4</td>\n",
       "      <td>9</td>\n",
       "      <td>1</td>\n",
       "      <td>4</td>\n",
       "      <td>0</td>\n",
       "      <td>38</td>\n",
       "      <td>1</td>\n",
       "    </tr>\n",
       "    <tr>\n",
       "      <th>9</th>\n",
       "      <td>2</td>\n",
       "      <td>9</td>\n",
       "      <td>2</td>\n",
       "      <td>3</td>\n",
       "      <td>0</td>\n",
       "      <td>4</td>\n",
       "      <td>1</td>\n",
       "      <td>38</td>\n",
       "      <td>1</td>\n",
       "    </tr>\n",
       "  </tbody>\n",
       "</table>\n",
       "</div>"
      ],
      "text/plain": [
       "   workclass  education  marital-status  occupation  relationship  race  sex  \\\n",
       "0          5          9               4           0             1     4    1   \n",
       "1          4          9               2           3             0     4    1   \n",
       "2          2         11               0           5             1     4    1   \n",
       "3          2          1               2           5             0     2    1   \n",
       "4          2          9               2           9             5     2    0   \n",
       "5          2         12               2           3             5     4    0   \n",
       "6          2          6               3           7             1     2    0   \n",
       "7          4         11               2           3             0     4    1   \n",
       "8          2         12               4           9             1     4    0   \n",
       "9          2          9               2           3             0     4    1   \n",
       "\n",
       "   native-country  income  \n",
       "0              38       0  \n",
       "1              38       0  \n",
       "2              38       0  \n",
       "3              38       0  \n",
       "4               4       0  \n",
       "5              38       0  \n",
       "6              22       0  \n",
       "7              38       1  \n",
       "8              38       1  \n",
       "9              38       1  "
      ]
     },
     "execution_count": 7,
     "metadata": {},
     "output_type": "execute_result"
    }
   ],
   "source": [
    "data_encoded_train.head(10)"
   ]
  },
  {
   "cell_type": "markdown",
   "metadata": {},
   "source": [
    "## 3. Standarization"
   ]
  },
  {
   "cell_type": "code",
   "execution_count": 8,
   "metadata": {},
   "outputs": [
    {
     "data": {
      "text/html": [
       "<div>\n",
       "<style scoped>\n",
       "    .dataframe tbody tr th:only-of-type {\n",
       "        vertical-align: middle;\n",
       "    }\n",
       "\n",
       "    .dataframe tbody tr th {\n",
       "        vertical-align: top;\n",
       "    }\n",
       "\n",
       "    .dataframe thead th {\n",
       "        text-align: right;\n",
       "    }\n",
       "</style>\n",
       "<table border=\"1\" class=\"dataframe\">\n",
       "  <thead>\n",
       "    <tr style=\"text-align: right;\">\n",
       "      <th></th>\n",
       "      <th>age</th>\n",
       "      <th>fnlwgt</th>\n",
       "      <th>education-num</th>\n",
       "      <th>capital-gain</th>\n",
       "      <th>capital-loss</th>\n",
       "      <th>hous-per-week</th>\n",
       "    </tr>\n",
       "  </thead>\n",
       "  <tbody>\n",
       "    <tr>\n",
       "      <th>0</th>\n",
       "      <td>0.042796</td>\n",
       "      <td>-1.062722</td>\n",
       "      <td>1.128918</td>\n",
       "      <td>0.146092</td>\n",
       "      <td>-0.218586</td>\n",
       "      <td>-0.077734</td>\n",
       "    </tr>\n",
       "    <tr>\n",
       "      <th>1</th>\n",
       "      <td>0.880288</td>\n",
       "      <td>-1.007871</td>\n",
       "      <td>1.128918</td>\n",
       "      <td>-0.147445</td>\n",
       "      <td>-0.218586</td>\n",
       "      <td>-2.331531</td>\n",
       "    </tr>\n",
       "    <tr>\n",
       "      <th>2</th>\n",
       "      <td>-0.033340</td>\n",
       "      <td>0.244693</td>\n",
       "      <td>-0.439738</td>\n",
       "      <td>-0.147445</td>\n",
       "      <td>-0.218586</td>\n",
       "      <td>-0.077734</td>\n",
       "    </tr>\n",
       "    <tr>\n",
       "      <th>3</th>\n",
       "      <td>1.108695</td>\n",
       "      <td>0.425240</td>\n",
       "      <td>-1.224066</td>\n",
       "      <td>-0.147445</td>\n",
       "      <td>-0.218586</td>\n",
       "      <td>-0.077734</td>\n",
       "    </tr>\n",
       "    <tr>\n",
       "      <th>4</th>\n",
       "      <td>-0.794697</td>\n",
       "      <td>1.406658</td>\n",
       "      <td>1.128918</td>\n",
       "      <td>-0.147445</td>\n",
       "      <td>-0.218586</td>\n",
       "      <td>-0.077734</td>\n",
       "    </tr>\n",
       "    <tr>\n",
       "      <th>5</th>\n",
       "      <td>-0.109476</td>\n",
       "      <td>0.897180</td>\n",
       "      <td>1.521083</td>\n",
       "      <td>-0.147445</td>\n",
       "      <td>-0.218586</td>\n",
       "      <td>-0.077734</td>\n",
       "    </tr>\n",
       "    <tr>\n",
       "      <th>6</th>\n",
       "      <td>0.804152</td>\n",
       "      <td>-0.280232</td>\n",
       "      <td>-2.008395</td>\n",
       "      <td>-0.147445</td>\n",
       "      <td>-0.218586</td>\n",
       "      <td>-2.081109</td>\n",
       "    </tr>\n",
       "    <tr>\n",
       "      <th>7</th>\n",
       "      <td>1.032559</td>\n",
       "      <td>0.187865</td>\n",
       "      <td>-0.439738</td>\n",
       "      <td>-0.147445</td>\n",
       "      <td>-0.218586</td>\n",
       "      <td>0.339636</td>\n",
       "    </tr>\n",
       "    <tr>\n",
       "      <th>8</th>\n",
       "      <td>-0.566290</td>\n",
       "      <td>-1.363097</td>\n",
       "      <td>1.521083</td>\n",
       "      <td>1.754199</td>\n",
       "      <td>-0.218586</td>\n",
       "      <td>0.757005</td>\n",
       "    </tr>\n",
       "    <tr>\n",
       "      <th>9</th>\n",
       "      <td>0.271203</td>\n",
       "      <td>-0.287217</td>\n",
       "      <td>1.128918</td>\n",
       "      <td>0.551697</td>\n",
       "      <td>-0.218586</td>\n",
       "      <td>-0.077734</td>\n",
       "    </tr>\n",
       "  </tbody>\n",
       "</table>\n",
       "</div>"
      ],
      "text/plain": [
       "        age    fnlwgt  education-num  capital-gain  capital-loss  \\\n",
       "0  0.042796 -1.062722       1.128918      0.146092     -0.218586   \n",
       "1  0.880288 -1.007871       1.128918     -0.147445     -0.218586   \n",
       "2 -0.033340  0.244693      -0.439738     -0.147445     -0.218586   \n",
       "3  1.108695  0.425240      -1.224066     -0.147445     -0.218586   \n",
       "4 -0.794697  1.406658       1.128918     -0.147445     -0.218586   \n",
       "5 -0.109476  0.897180       1.521083     -0.147445     -0.218586   \n",
       "6  0.804152 -0.280232      -2.008395     -0.147445     -0.218586   \n",
       "7  1.032559  0.187865      -0.439738     -0.147445     -0.218586   \n",
       "8 -0.566290 -1.363097       1.521083      1.754199     -0.218586   \n",
       "9  0.271203 -0.287217       1.128918      0.551697     -0.218586   \n",
       "\n",
       "   hous-per-week  \n",
       "0      -0.077734  \n",
       "1      -2.331531  \n",
       "2      -0.077734  \n",
       "3      -0.077734  \n",
       "4      -0.077734  \n",
       "5      -0.077734  \n",
       "6      -2.081109  \n",
       "7       0.339636  \n",
       "8       0.757005  \n",
       "9      -0.077734  "
      ]
     },
     "execution_count": 8,
     "metadata": {},
     "output_type": "execute_result"
    }
   ],
   "source": [
    "data_std_train.head(10)"
   ]
  },
  {
   "cell_type": "markdown",
   "metadata": {},
   "source": [
    "# Logistic Regression & Decision Tree"
   ]
  },
  {
   "cell_type": "code",
   "execution_count": 9,
   "metadata": {},
   "outputs": [
    {
     "name": "stdout",
     "output_type": "stream",
     "text": [
      "-----Logistic Regression------\n",
      "Mismatched training data: 5417\n",
      "Mismatched test data: 2715\n",
      "Accuracy score: 0.81972\n",
      "AUC: 0.85\n"
     ]
    },
    {
     "data": {
      "image/png": "[encoded data removed]",
      "text/plain": [
       "<Figure size 432x288 with 1 Axes>"
      ]
     },
     "metadata": {
      "needs_background": "light"
     },
     "output_type": "display_data"
    },
    {
     "name": "stdout",
     "output_type": "stream",
     "text": [
      "-----Decision Tree------\n",
      "Mismatched training data: 1\n",
      "Mismatched test data: 3060\n",
      "Accuracy score: 0.79681\n",
      "AUC: 0.73\n"
     ]
    },
    {
     "data": {
      "image/png": "[encoded data removed]",
      "text/plain": [
       "<Figure size 432x288 with 1 Axes>"
      ]
     },
     "metadata": {
      "needs_background": "light"
     },
     "output_type": "display_data"
    }
   ],
   "source": [
    "# run it in Logistic Regression\n",
    "lr = LogisticRegression(max_iter=100, tol=1e-3, C=1, solver='liblinear', multi_class='ovr')\n",
    "lr = lr.fit(df_x, df_y)\n",
    "predictInfo(lr,\"Logistic Regression\")\n",
    "\n",
    "\n",
    "# run it in Decision Tree\n",
    "dt = DecisionTreeClassifier()\n",
    "dt = dt.fit(df_x,df_y)\n",
    "predictInfo(dt,\"Decision Tree\")"
   ]
  },
  {
   "cell_type": "markdown",
   "metadata": {},
   "source": [
    "# K-th neighbors vote"
   ]
  },
  {
   "cell_type": "code",
   "execution_count": 10,
   "metadata": {},
   "outputs": [
    {
     "name": "stdout",
     "output_type": "stream",
     "text": [
      "-----K-3 neighbors vote------\n",
      "Mismatched training data: 3163\n",
      "Mismatched test data: 2788\n",
      "Accuracy score: 0.81487\n",
      "AUC: 0.82\n"
     ]
    },
    {
     "data": {
      "image/png": "[encoded data removed]",
      "text/plain": [
       "<Figure size 432x288 with 1 Axes>"
      ]
     },
     "metadata": {
      "needs_background": "light"
     },
     "output_type": "display_data"
    },
    {
     "name": "stdout",
     "output_type": "stream",
     "text": [
      "-----K-5 neighbors vote------\n",
      "Mismatched training data: 3731\n",
      "Mismatched test data: 2678\n",
      "Accuracy score: 0.82218\n",
      "AUC: 0.84\n"
     ]
    },
    {
     "data": {
      "image/png": "[encoded data removed]",
      "text/plain": [
       "<Figure size 432x288 with 1 Axes>"
      ]
     },
     "metadata": {
      "needs_background": "light"
     },
     "output_type": "display_data"
    },
    {
     "name": "stdout",
     "output_type": "stream",
     "text": [
      "-----K-7 neighbors vote------\n",
      "Mismatched training data: 4036\n",
      "Mismatched test data: 2642\n",
      "Accuracy score: 0.82457\n",
      "AUC: 0.86\n"
     ]
    },
    {
     "data": {
      "image/png": "[encoded data removed]",
      "text/plain": [
       "<Figure size 432x288 with 1 Axes>"
      ]
     },
     "metadata": {
      "needs_background": "light"
     },
     "output_type": "display_data"
    }
   ],
   "source": [
    "# run it in K-nearest neighbors vote\n",
    "from sklearn.neighbors import KNeighborsClassifier\n",
    "kneigh_3 = KNeighborsClassifier(n_neighbors=3)\n",
    "kneigh_3 = kneigh_3.fit(df_x,df_y)\n",
    "predictInfo(kneigh_3,\"K-3 neighbors vote\")\n",
    "\n",
    "kneigh_5 = KNeighborsClassifier(n_neighbors=5)\n",
    "kneigh_5 = kneigh_5.fit(df_x,df_y)\n",
    "predictInfo(kneigh_5,\"K-5 neighbors vote\")\n",
    "\n",
    "kneigh_7 = KNeighborsClassifier(n_neighbors=7)\n",
    "kneigh_7 = kneigh_7.fit(df_x,df_y)\n",
    "predictInfo(kneigh_7,\"K-7 neighbors vote\")"
   ]
  },
  {
   "cell_type": "markdown",
   "metadata": {},
   "source": [
    "# Random forest"
   ]
  },
  {
   "cell_type": "code",
   "execution_count": 11,
   "metadata": {},
   "outputs": [
    {
     "name": "stdout",
     "output_type": "stream",
     "text": [
      "-----Random Forest------\n",
      "Mismatched training data: 2\n",
      "Mismatched test data: 2302\n",
      "Accuracy score: 0.84714\n",
      "AUC: 0.90\n"
     ]
    },
    {
     "data": {
      "image/png": "[encoded data removed]",
      "text/plain": [
       "<Figure size 432x288 with 1 Axes>"
      ]
     },
     "metadata": {
      "needs_background": "light"
     },
     "output_type": "display_data"
    },
    {
     "data": {
      "image/png": "[encoded data removed]",
      "text/plain": [
       "<Figure size 432x288 with 1 Axes>"
      ]
     },
     "metadata": {
      "needs_background": "light"
     },
     "output_type": "display_data"
    }
   ],
   "source": [
    "# run it in Random Forest\n",
    "from sklearn.ensemble import RandomForestClassifier\n",
    "forest = RandomForestClassifier(criterion='entropy', n_estimators=85, random_state=1)\n",
    "forest= forest.fit(df_x,df_y)\n",
    "\n",
    "predictInfo(forest,\"Random Forest\")\n",
    "# Extract 7 top feat ures from random forest and test the models\n",
    "df_x = df_x[:, top_7_features]\n",
    "df_x_v = df_x_v[:, top_7_features]"
   ]
  },
  {
   "cell_type": "markdown",
   "metadata": {},
   "source": [
    "# SVM"
   ]
  },
  {
   "cell_type": "code",
   "execution_count": 12,
   "metadata": {},
   "outputs": [
    {
     "name": "stdout",
     "output_type": "stream",
     "text": [
      "-----SVM------\n",
      "Mismatched training data: 4784\n",
      "Mismatched test data: 2423\n",
      "Accuracy score: 0.83911\n",
      "AUC: 0.89\n"
     ]
    },
    {
     "data": {
      "image/png": "[encoded data removed]",
      "text/plain": [
       "<Figure size 432x288 with 1 Axes>"
      ]
     },
     "metadata": {
      "needs_background": "light"
     },
     "output_type": "display_data"
    }
   ],
   "source": [
    "# implement SVM\n",
    "from sklearn.svm import SVC\n",
    "svm = SVC(kernel='rbf', random_state=1, C=1.0, gamma=0.025,probability=True)\n",
    "svm = svm.fit(df_x, df_y)\n",
    "predictInfo(svm,\"SVM\")"
   ]
  },
  {
   "cell_type": "markdown",
   "metadata": {},
   "source": [
    "# Logistic Regression again and Decision Tree with important features"
   ]
  },
  {
   "cell_type": "code",
   "execution_count": 13,
   "metadata": {},
   "outputs": [
    {
     "name": "stdout",
     "output_type": "stream",
     "text": [
      "-----Logistic Regression------\n",
      "Mismatched training data: 5595\n",
      "Mismatched test data: 2824\n",
      "Accuracy score: 0.81248\n",
      "AUC: 0.84\n"
     ]
    },
    {
     "data": {
      "image/png": "[encoded data removed]",
      "text/plain": [
       "<Figure size 432x288 with 1 Axes>"
      ]
     },
     "metadata": {
      "needs_background": "light"
     },
     "output_type": "display_data"
    },
    {
     "name": "stdout",
     "output_type": "stream",
     "text": [
      "-----Decision Tree------\n",
      "Mismatched training data: 23\n",
      "Mismatched test data: 3122\n",
      "Accuracy score: 0.79270\n",
      "AUC: 0.72\n"
     ]
    },
    {
     "data": {
      "image/png": "[encoded data removed]",
      "text/plain": [
       "<Figure size 432x288 with 1 Axes>"
      ]
     },
     "metadata": {
      "needs_background": "light"
     },
     "output_type": "display_data"
    },
    {
     "name": "stdout",
     "output_type": "stream",
     "text": [
      "-----Random Forest-Top7------\n",
      "Mismatched training data: 30\n",
      "Mismatched test data: 2592\n",
      "Accuracy score: 0.82789\n",
      "AUC: 0.87\n"
     ]
    },
    {
     "data": {
      "image/png": "[encoded data removed]",
      "text/plain": [
       "<Figure size 432x288 with 1 Axes>"
      ]
     },
     "metadata": {
      "needs_background": "light"
     },
     "output_type": "display_data"
    }
   ],
   "source": [
    "# Logistic Regression\n",
    "lr = LogisticRegression(max_iter=100, tol=1e-3, C=1, solver='liblinear', multi_class='ovr')\n",
    "lr = lr.fit(df_x, df_y)\n",
    "predictInfo(lr,\"Logistic Regression\")\n",
    "\n",
    "# Decision Tree\n",
    "dt = DecisionTreeClassifier()\n",
    "dt = dt.fit(df_x,df_y)\n",
    "predictInfo(dt,\"Decision Tree\")\n",
    "\n",
    "from sklearn.ensemble import RandomForestClassifier\n",
    "forest = RandomForestClassifier(criterion='entropy', n_estimators=85, random_state=1)\n",
    "forest= forest.fit(df_x,df_y)\n",
    "\n",
    "predictInfo(forest,\"Random Forest-Top7\")"
   ]
  },
  {
   "cell_type": "code",
   "execution_count": null,
   "metadata": {},
   "outputs": [],
   "source": [
    "from sklearn.decomposition import LatentDirichletAllocation\n",
    "lda = LatentDirichletAllocation(n_components = 10,random_state = 0)\n",
    "lda = lda.fit_transform(data_encoded_train)\n",
    "plt.scatter(data_encoded_train[:,0],data_encoded_train[:,1],marker='o',c=y)\n",
    "plt.show()\n",
    "# predictInfo(lda,\"LDA\")"
   ]
  },
  {
   "cell_type": "code",
   "execution_count": null,
   "metadata": {},
   "outputs": [],
   "source": []
  },
  {
   "cell_type": "code",
   "execution_count": null,
   "metadata": {},
   "outputs": [],
   "source": []
  },
  {
   "cell_type": "code",
   "execution_count": null,
   "metadata": {},
   "outputs": [],
   "source": []
  },
  {
   "cell_type": "code",
   "execution_count": null,
   "metadata": {},
   "outputs": [],
   "source": []
  },
  {
   "cell_type": "code",
   "execution_count": null,
   "metadata": {},
   "outputs": [],
   "source": []
  },
  {
   "cell_type": "code",
   "execution_count": null,
   "metadata": {},
   "outputs": [],
   "source": []
  }
 ],
 "metadata": {
  "kernelspec": {
   "display_name": "Python 3",
   "language": "python",
   "name": "python3"
  },
  "language_info": {
   "codemirror_mode": {
    "name": "ipython",
    "version": 3
   },
   "file_extension": ".py",
   "mimetype": "text/x-python",
   "name": "python",
   "nbconvert_exporter": "python",
   "pygments_lexer": "ipython3",
   "version": "3.7.4"
  }
 },
 "nbformat": 4,
 "nbformat_minor": 2
}
